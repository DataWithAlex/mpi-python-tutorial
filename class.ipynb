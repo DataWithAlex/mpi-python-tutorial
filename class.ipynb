{
 "cells": [
  {
   "cell_type": "markdown",
   "metadata": {},
   "source": [
    "First I created a virtual environment: \n",
    "\n",
    "```{bash}\n",
    "python3 -m venv myenv\n",
    "source myenv/bin/activate\n",
    "pip install mpi4py\n",
    "```\n",
    "\n",
    "```{bash}\n",
    "brew install open-mpi\n",
    "export OMPI_MCA_btl=\"self,tcp\"\n",
    "```"
   ]
  },
  {
   "cell_type": "code",
   "execution_count": 6,
   "metadata": {},
   "outputs": [
    {
     "name": "stdout",
     "output_type": "stream",
     "text": [
      "Hello from process 0\n"
     ]
    }
   ],
   "source": [
    "from mpi4py import MPI\n",
    "\n",
    "comm = MPI.COMM_WORLD\n",
    "rank = comm.Get_rank()\n",
    "\n",
    "print(f\"Hello from process {rank}\")"
   ]
  },
  {
   "cell_type": "code",
   "execution_count": 14,
   "metadata": {},
   "outputs": [
    {
     "data": {
      "text/html": [
       "<a href=\"./point-to-point.py\" target=\"_blank\">Open Python Script</a>"
      ],
      "text/plain": [
       "<IPython.core.display.HTML object>"
      ]
     },
     "execution_count": 14,
     "metadata": {},
     "output_type": "execute_result"
    }
   ],
   "source": [
    "from IPython.display import HTML\n",
    "\n",
    "# Create an HTML link to the Python script\n",
    "script_name = \"point-to-point.py\"\n",
    "HTML(f'<a href=\"./{script_name}\" target=\"_blank\">Open Python Script</a>')"
   ]
  },
  {
   "cell_type": "code",
   "execution_count": 10,
   "metadata": {},
   "outputs": [
    {
     "name": "stdout",
     "output_type": "stream",
     "text": [
      "Hello from process 0\n",
      "Hello from process 1\n",
      "Hello from process 2\n",
      "Hello from process 3\n"
     ]
    }
   ],
   "source": [
    "!mpiexec -n 4 python3 mpi_test.py"
   ]
  },
  {
   "cell_type": "code",
   "execution_count": 8,
   "metadata": {},
   "outputs": [
    {
     "name": "stdout",
     "output_type": "stream",
     "text": [
      "Logical cores: 10\n"
     ]
    }
   ],
   "source": [
    "import os\n",
    "\n",
    "# Get the number of logical cores\n",
    "logical_cores = os.cpu_count()\n",
    "print(f\"Logical cores: {logical_cores}\")"
   ]
  },
  {
   "cell_type": "markdown",
   "metadata": {},
   "source": []
  },
  {
   "cell_type": "markdown",
   "metadata": {},
   "source": []
  }
 ],
 "metadata": {
  "kernelspec": {
   "display_name": "Python 3",
   "language": "python",
   "name": "python3"
  },
  "language_info": {
   "codemirror_mode": {
    "name": "ipython",
    "version": 3
   },
   "file_extension": ".py",
   "mimetype": "text/x-python",
   "name": "python",
   "nbconvert_exporter": "python",
   "pygments_lexer": "ipython3",
   "version": "3.12.1"
  }
 },
 "nbformat": 4,
 "nbformat_minor": 2
}
